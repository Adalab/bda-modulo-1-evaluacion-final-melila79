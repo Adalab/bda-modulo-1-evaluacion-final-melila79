{
 "cells": [
  {
   "cell_type": "code",
   "execution_count": 57,
   "metadata": {},
   "outputs": [],
   "source": [
    "# 1. inventario = lista para almacenar los productos en el inventario, debe ser representado como un diccionario con las siguientes claves: `'nombre'`, `'precio'`, y `'cantidad'`\n",
    "# 2. clientes - inventario para llevar un registro de los clientes de la tienda, claves: `'nombre'` y `'email'`. Al inicio deberá ser un diccionario vacío. Además, cada cliente debe tener un historial de compras \n",
    "# 3. ventas_totales = variable para llevar un registro de las ventas totales de la tienda"
   ]
  },
  {
   "cell_type": "code",
   "execution_count": 58,
   "metadata": {},
   "outputs": [],
   "source": [
    "inventario = []"
   ]
  },
  {
   "cell_type": "code",
   "execution_count": 59,
   "metadata": {},
   "outputs": [],
   "source": [
    "clientes = {}\n"
   ]
  },
  {
   "cell_type": "code",
   "execution_count": 60,
   "metadata": {},
   "outputs": [],
   "source": [
    "ventas_totales = 0\n"
   ]
  },
  {
   "cell_type": "code",
   "execution_count": 61,
   "metadata": {},
   "outputs": [],
   "source": [
    "# 1. Esta función agrega un producto al inventario o actualiza su cantidad si ya existe. - OK\n",
    "    # Debe recibir el nombre, precio y cantidad del producto como parámetros."
   ]
  },
  {
   "cell_type": "code",
   "execution_count": 62,
   "metadata": {},
   "outputs": [],
   "source": [
    "def agregar_producto(inventario, nombre, precio, cantidad):\n",
    "\n",
    "    for producto in inventario:\n",
    "        if producto['nombre'] == nombre:\n",
    "            print ('El producto ya existe, se va a actualizsar la cantidad')\n",
    "            producto['cantidad'] += cantidad\n",
    "            return\n",
    "    \n",
    "    nuevo_producto = {\n",
    "        'nombre' : nombre,\n",
    "        'precio €' : precio,\n",
    "        'cantidad' : cantidad\n",
    "     }\n",
    "    inventario.append(nuevo_producto)\n",
    "\n"
   ]
  },
  {
   "cell_type": "code",
   "execution_count": 63,
   "metadata": {},
   "outputs": [
    {
     "name": "stdout",
     "output_type": "stream",
     "text": [
      "El producto ya existe, se va a actualizsar la cantidad\n"
     ]
    }
   ],
   "source": [
    "agregar_producto(inventario,'camisa', 50, 20)\n",
    "agregar_producto(inventario,'pantalon', 30, 30)\n",
    "agregar_producto(inventario,'pantalon', 30, 50)\n",
    "agregar_producto(inventario,'sueter', 25, 40)\n",
    "agregar_producto(inventario,'chaleco', 52, 60)"
   ]
  },
  {
   "cell_type": "code",
   "execution_count": 64,
   "metadata": {},
   "outputs": [
    {
     "data": {
      "text/plain": [
       "[{'nombre': 'camisa', 'precio €': 50, 'cantidad': 20},\n",
       " {'nombre': 'pantalon', 'precio €': 30, 'cantidad': 80},\n",
       " {'nombre': 'sueter', 'precio €': 25, 'cantidad': 40},\n",
       " {'nombre': 'chaleco', 'precio €': 52, 'cantidad': 60}]"
      ]
     },
     "execution_count": 64,
     "metadata": {},
     "output_type": "execute_result"
    }
   ],
   "source": [
    "inventario"
   ]
  },
  {
   "cell_type": "code",
   "execution_count": 65,
   "metadata": {},
   "outputs": [],
   "source": [
    "# 2. Muestra el inventario de productos con sus detalles."
   ]
  },
  {
   "cell_type": "code",
   "execution_count": 66,
   "metadata": {},
   "outputs": [],
   "source": [
    "def ver_inventario(inventario):\n",
    "\n",
    "    for producto in inventario:\n",
    "        print(inventario)\n"
   ]
  },
  {
   "cell_type": "code",
   "execution_count": 67,
   "metadata": {},
   "outputs": [
    {
     "name": "stdout",
     "output_type": "stream",
     "text": [
      "[{'nombre': 'camisa', 'precio €': 50, 'cantidad': 20}, {'nombre': 'pantalon', 'precio €': 30, 'cantidad': 80}, {'nombre': 'sueter', 'precio €': 25, 'cantidad': 40}, {'nombre': 'chaleco', 'precio €': 52, 'cantidad': 60}]\n",
      "[{'nombre': 'camisa', 'precio €': 50, 'cantidad': 20}, {'nombre': 'pantalon', 'precio €': 30, 'cantidad': 80}, {'nombre': 'sueter', 'precio €': 25, 'cantidad': 40}, {'nombre': 'chaleco', 'precio €': 52, 'cantidad': 60}]\n",
      "[{'nombre': 'camisa', 'precio €': 50, 'cantidad': 20}, {'nombre': 'pantalon', 'precio €': 30, 'cantidad': 80}, {'nombre': 'sueter', 'precio €': 25, 'cantidad': 40}, {'nombre': 'chaleco', 'precio €': 52, 'cantidad': 60}]\n",
      "[{'nombre': 'camisa', 'precio €': 50, 'cantidad': 20}, {'nombre': 'pantalon', 'precio €': 30, 'cantidad': 80}, {'nombre': 'sueter', 'precio €': 25, 'cantidad': 40}, {'nombre': 'chaleco', 'precio €': 52, 'cantidad': 60}]\n"
     ]
    }
   ],
   "source": [
    "ver_inventario(inventario)"
   ]
  },
  {
   "cell_type": "code",
   "execution_count": 68,
   "metadata": {},
   "outputs": [],
   "source": [
    "# 3. Busca un producto en el inventario por nombre y muestra sus detalles si se encuentra - OK"
   ]
  },
  {
   "cell_type": "code",
   "execution_count": 69,
   "metadata": {},
   "outputs": [],
   "source": [
    "def buscar_producto(buscar_nombre):\n",
    "\n",
    "    for producto in inventario:\n",
    "        if producto['nombre'] == buscar_nombre:\n",
    "            return(producto)\n",
    "        else:\n",
    "             print('El producto no existe')\n",
    "              "
   ]
  },
  {
   "cell_type": "code",
   "execution_count": 70,
   "metadata": {},
   "outputs": [
    {
     "name": "stdout",
     "output_type": "stream",
     "text": [
      "El producto no existe\n"
     ]
    },
    {
     "data": {
      "text/plain": [
       "{'nombre': 'pantalon', 'precio €': 30, 'cantidad': 80}"
      ]
     },
     "execution_count": 70,
     "metadata": {},
     "output_type": "execute_result"
    }
   ],
   "source": [
    "buscar_producto('pantalon')"
   ]
  },
  {
   "cell_type": "code",
   "execution_count": 71,
   "metadata": {},
   "outputs": [],
   "source": [
    "## 4. Actualiza el stock de un producto en el inventario. Debe recibir el nombre del producto y la cantidad a agregar o quitar como parámetros. - OK"
   ]
  },
  {
   "cell_type": "code",
   "execution_count": 72,
   "metadata": {},
   "outputs": [
    {
     "data": {
      "text/plain": [
       "[{'nombre': 'camisa', 'precio €': 50, 'cantidad': 20},\n",
       " {'nombre': 'pantalon', 'precio €': 30, 'cantidad': 80},\n",
       " {'nombre': 'sueter', 'precio €': 25, 'cantidad': 40},\n",
       " {'nombre': 'chaleco', 'precio €': 52, 'cantidad': 60}]"
      ]
     },
     "execution_count": 72,
     "metadata": {},
     "output_type": "execute_result"
    }
   ],
   "source": [
    "inventario"
   ]
  },
  {
   "cell_type": "code",
   "execution_count": 73,
   "metadata": {},
   "outputs": [],
   "source": [
    "def actualizar_stock(nombre, cantidad):\n",
    "\n",
    "      for producto in inventario:  \n",
    "         \n",
    "         if producto['nombre'] != nombre:\n",
    "               print('El producto no existe')\n",
    "         else:\n",
    "               nuevo_stock = producto['cantidad'] + cantidad\n",
    "               print('El nuevo stock de', nombre, 'es:', nuevo_stock)\n",
    "                   \n"
   ]
  },
  {
   "cell_type": "code",
   "execution_count": 74,
   "metadata": {},
   "outputs": [
    {
     "name": "stdout",
     "output_type": "stream",
     "text": [
      "El nuevo stock de camisa es: 50\n",
      "El producto no existe\n",
      "El producto no existe\n",
      "El producto no existe\n"
     ]
    }
   ],
   "source": [
    "actualizar_stock('camisa', 30)"
   ]
  },
  {
   "cell_type": "code",
   "execution_count": 75,
   "metadata": {},
   "outputs": [],
   "source": [
    "## 5. Elimina un producto del inventario por nombre. Debe recibir el nombre del producto como parámetro."
   ]
  },
  {
   "cell_type": "code",
   "execution_count": 76,
   "metadata": {},
   "outputs": [],
   "source": [
    "def eliminar_producto(nombre_a_eliminar):\n",
    "\n",
    "    for producto in inventario:\n",
    "\n",
    "        if producto['nombre'] == nombre_a_eliminar:\n",
    "            print('Se va a eliminar el producto', nombre_a_eliminar)\n",
    "            producto.pop('nombre')\n",
    "            # producto.pop('precio €')\n",
    "            # producto.pop('cantidad')\n",
    "        else:\n",
    "             print('El producto no existe')"
   ]
  },
  {
   "cell_type": "code",
   "execution_count": 77,
   "metadata": {},
   "outputs": [
    {
     "name": "stdout",
     "output_type": "stream",
     "text": [
      "El producto no existe\n",
      "El producto no existe\n",
      "El producto no existe\n",
      "El producto no existe\n"
     ]
    }
   ],
   "source": [
    "eliminar_producto('bufanda')"
   ]
  },
  {
   "cell_type": "code",
   "execution_count": 78,
   "metadata": {},
   "outputs": [],
   "source": [
    "## 6. Calcula y muestra el valor total del inventario  - OK"
   ]
  },
  {
   "cell_type": "code",
   "execution_count": 79,
   "metadata": {},
   "outputs": [
    {
     "data": {
      "text/plain": [
       "[{'nombre': 'camisa', 'precio €': 50, 'cantidad': 20},\n",
       " {'nombre': 'pantalon', 'precio €': 30, 'cantidad': 80},\n",
       " {'nombre': 'sueter', 'precio €': 25, 'cantidad': 40},\n",
       " {'nombre': 'chaleco', 'precio €': 52, 'cantidad': 60}]"
      ]
     },
     "execution_count": 79,
     "metadata": {},
     "output_type": "execute_result"
    }
   ],
   "source": [
    "inventario"
   ]
  },
  {
   "cell_type": "code",
   "execution_count": 80,
   "metadata": {},
   "outputs": [],
   "source": [
    "def calcular_valor_inventario(inventario):\n",
    "        ventas_totales = 0\n",
    "        for producto in inventario:\n",
    "                precio = producto['precio €']\n",
    "                cantidad = producto['cantidad']\n",
    "                ventas_totales += precio * cantidad\n",
    "        print('El valor total del inventario es:', ventas_totales,'€')\n",
    "            "
   ]
  },
  {
   "cell_type": "code",
   "execution_count": 81,
   "metadata": {},
   "outputs": [
    {
     "name": "stdout",
     "output_type": "stream",
     "text": [
      "El valor total del inventario es: 7520 €\n"
     ]
    }
   ],
   "source": [
    "calcular_valor_inventario(inventario)"
   ]
  },
  {
   "cell_type": "code",
   "execution_count": 82,
   "metadata": {},
   "outputs": [],
   "source": [
    "## 7. Permite a un cliente realizar una compra seleccionando productos del inventario"
   ]
  },
  {
   "cell_type": "code",
   "execution_count": 83,
   "metadata": {},
   "outputs": [],
   "source": [
    "def hacer_compra(inventario):\n",
    "    compras = 0\n",
    "    \n",
    "    while True:\n",
    "        seleccion_compra = input('Pulse \"S\" si desea realizar una compra (o salir para terminar)')\n",
    "       \n",
    "            if seleccionar_compra.lower() == 'S':\n",
    "                print('Los productos disponibles son:')\n",
    "                ver_inventario(inventario)\n",
    "                input('Ingrese el producto que desea comprar')\n",
    "\n",
    "   \n"
   ]
  }
 ],
 "metadata": {
  "kernelspec": {
   "display_name": "Python 3",
   "language": "python",
   "name": "python3"
  },
  "language_info": {
   "codemirror_mode": {
    "name": "ipython",
    "version": 3
   },
   "file_extension": ".py",
   "mimetype": "text/x-python",
   "name": "python",
   "nbconvert_exporter": "python",
   "pygments_lexer": "ipython3",
   "version": "3.12.6"
  }
 },
 "nbformat": 4,
 "nbformat_minor": 2
}
