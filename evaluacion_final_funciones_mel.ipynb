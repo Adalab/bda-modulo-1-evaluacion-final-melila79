{
 "cells": [
  {
   "cell_type": "code",
   "execution_count": 562,
   "metadata": {},
   "outputs": [],
   "source": [
    "# 1. inventario = lista para almacenar los productos en el inventario, debe ser representado como un diccionario con las siguientes claves: `'nombre'`, `'precio'`, y `'cantidad'`\n",
    "# 2. clientes - inventario para llevar un registro de los clientes de la tienda, claves: `'nombre'` y `'email'`. Al inicio deberá ser un diccionario vacío. Además, cada cliente debe tener un historial de compras \n",
    "# 3. ventas_totales = variable para llevar un registro de las ventas totales de la tienda"
   ]
  },
  {
   "cell_type": "code",
   "execution_count": 563,
   "metadata": {},
   "outputs": [],
   "source": [
    "inventario = []"
   ]
  },
  {
   "cell_type": "code",
   "execution_count": 564,
   "metadata": {},
   "outputs": [],
   "source": [
    "clientes = {}\n"
   ]
  },
  {
   "cell_type": "code",
   "execution_count": 565,
   "metadata": {},
   "outputs": [],
   "source": [
    "ventas_totales = 0\n"
   ]
  },
  {
   "cell_type": "code",
   "execution_count": 566,
   "metadata": {},
   "outputs": [],
   "source": [
    "# 1. Esta función agrega un producto al inventario o actualiza su cantidad si ya existe. - OK\n",
    "    # Debe recibir el nombre, precio y cantidad del producto como parámetros."
   ]
  },
  {
   "cell_type": "code",
   "execution_count": 567,
   "metadata": {},
   "outputs": [],
   "source": [
    "def agregar_producto(inventario, nombre, precio, cantidad):\n",
    "\n",
    "    for producto in inventario:\n",
    "        if producto['nombre'] == nombre:\n",
    "            print ('El producto ya existe, se va a actualizsar la cantidad')\n",
    "            producto['cantidad'] += cantidad\n",
    "            return\n",
    "    \n",
    "    nuevo_producto = {\n",
    "        'nombre' : nombre,\n",
    "        'precio €' : precio,\n",
    "        'cantidad' : cantidad\n",
    "     }\n",
    "    inventario.append(nuevo_producto)\n",
    "\n"
   ]
  },
  {
   "cell_type": "code",
   "execution_count": 568,
   "metadata": {},
   "outputs": [
    {
     "name": "stdout",
     "output_type": "stream",
     "text": [
      "El producto ya existe, se va a actualizsar la cantidad\n"
     ]
    }
   ],
   "source": [
    "agregar_producto(inventario,'camisa', 50, 20)\n",
    "agregar_producto(inventario,'pantalon', 30, 30)\n",
    "agregar_producto(inventario,'pantalon', 30, 50)\n",
    "agregar_producto(inventario,'sueter', 25, 40)\n",
    "agregar_producto(inventario,'chaleco', 52, 60)"
   ]
  },
  {
   "cell_type": "code",
   "execution_count": 569,
   "metadata": {},
   "outputs": [
    {
     "data": {
      "text/plain": [
       "[{'nombre': 'camisa', 'precio €': 50, 'cantidad': 20},\n",
       " {'nombre': 'pantalon', 'precio €': 30, 'cantidad': 80},\n",
       " {'nombre': 'sueter', 'precio €': 25, 'cantidad': 40},\n",
       " {'nombre': 'chaleco', 'precio €': 52, 'cantidad': 60}]"
      ]
     },
     "execution_count": 569,
     "metadata": {},
     "output_type": "execute_result"
    }
   ],
   "source": [
    "inventario"
   ]
  },
  {
   "cell_type": "code",
   "execution_count": 570,
   "metadata": {},
   "outputs": [],
   "source": [
    "# 2. Muestra el inventario de productos con sus detalles."
   ]
  },
  {
   "cell_type": "code",
   "execution_count": 571,
   "metadata": {},
   "outputs": [
    {
     "ename": "IndentationError",
     "evalue": "unexpected indent (1100167965.py, line 3)",
     "output_type": "error",
     "traceback": [
      "\u001b[1;36m  Cell \u001b[1;32mIn[571], line 3\u001b[1;36m\u001b[0m\n\u001b[1;33m    for producto in inventario.items():\u001b[0m\n\u001b[1;37m    ^\u001b[0m\n\u001b[1;31mIndentationError\u001b[0m\u001b[1;31m:\u001b[0m unexpected indent\n"
     ]
    }
   ],
   "source": [
    "#def ver_inventario(inventario):\n",
    "\n",
    "    for producto in inventario.items():\n",
    "        producto_detalles = {\n",
    "            'nombre' : nombre,\n",
    "            'precio €' : precio,\n",
    "            'cantidad' : cantidad\n",
    "        }\n",
    "        print(producto_detalles)\n",
    "    #return producto_detalles\n",
    "    #print()"
   ]
  },
  {
   "cell_type": "code",
   "execution_count": 340,
   "metadata": {},
   "outputs": [
    {
     "ename": "AttributeError",
     "evalue": "'list' object has no attribute 'items'",
     "output_type": "error",
     "traceback": [
      "\u001b[1;31m---------------------------------------------------------------------------\u001b[0m",
      "\u001b[1;31mAttributeError\u001b[0m                            Traceback (most recent call last)",
      "Cell \u001b[1;32mIn[340], line 1\u001b[0m\n\u001b[1;32m----> 1\u001b[0m \u001b[43mver_inventario\u001b[49m\u001b[43m(\u001b[49m\u001b[43minventario\u001b[49m\u001b[43m)\u001b[49m\n",
      "Cell \u001b[1;32mIn[339], line 3\u001b[0m, in \u001b[0;36mver_inventario\u001b[1;34m(inventario)\u001b[0m\n\u001b[0;32m      1\u001b[0m \u001b[38;5;28;01mdef\u001b[39;00m \u001b[38;5;21mver_inventario\u001b[39m(inventario):\n\u001b[1;32m----> 3\u001b[0m     \u001b[38;5;28;01mfor\u001b[39;00m producto \u001b[38;5;129;01min\u001b[39;00m \u001b[43minventario\u001b[49m\u001b[38;5;241;43m.\u001b[39;49m\u001b[43mitems\u001b[49m():\n\u001b[0;32m      4\u001b[0m         producto_detalles \u001b[38;5;241m=\u001b[39m {\n\u001b[0;32m      5\u001b[0m             \u001b[38;5;124m'\u001b[39m\u001b[38;5;124mnombre\u001b[39m\u001b[38;5;124m'\u001b[39m : nombre,\n\u001b[0;32m      6\u001b[0m             \u001b[38;5;124m'\u001b[39m\u001b[38;5;124mprecio €\u001b[39m\u001b[38;5;124m'\u001b[39m : precio,\n\u001b[0;32m      7\u001b[0m             \u001b[38;5;124m'\u001b[39m\u001b[38;5;124mcantidad\u001b[39m\u001b[38;5;124m'\u001b[39m : cantidad\n\u001b[0;32m      8\u001b[0m         }\n\u001b[0;32m      9\u001b[0m         \u001b[38;5;28mprint\u001b[39m(producto_detalles)\n",
      "\u001b[1;31mAttributeError\u001b[0m: 'list' object has no attribute 'items'"
     ]
    }
   ],
   "source": [
    "#ver_inventario(inventario)"
   ]
  },
  {
   "cell_type": "code",
   "execution_count": 266,
   "metadata": {},
   "outputs": [],
   "source": [
    "# 3. Busca un producto en el inventario por nombre y muestra sus detalles si se encuentra - OK"
   ]
  },
  {
   "cell_type": "code",
   "execution_count": 169,
   "metadata": {},
   "outputs": [],
   "source": [
    "def buscar_producto(buscar_nombre):\n",
    "\n",
    "    for producto in inventario:\n",
    "        if producto['nombre'] == buscar_nombre:\n",
    "            return(producto)\n",
    "        else:\n",
    "             print('El producto no existe')\n",
    "              "
   ]
  },
  {
   "cell_type": "code",
   "execution_count": 170,
   "metadata": {},
   "outputs": [
    {
     "name": "stdout",
     "output_type": "stream",
     "text": [
      "El producto no existe\n"
     ]
    },
    {
     "data": {
      "text/plain": [
       "{'nombre': 'pantalon', 'precio €': 30, 'cantidad': 80}"
      ]
     },
     "execution_count": 170,
     "metadata": {},
     "output_type": "execute_result"
    }
   ],
   "source": [
    "buscar_producto('pantalon')"
   ]
  },
  {
   "cell_type": "code",
   "execution_count": null,
   "metadata": {},
   "outputs": [],
   "source": [
    "## 4. Actualiza el stock de un producto en el inventario. Debe recibir el nombre del producto y la cantidad a agregar o quitar como parámetros. - OK"
   ]
  },
  {
   "cell_type": "code",
   "execution_count": 167,
   "metadata": {},
   "outputs": [
    {
     "data": {
      "text/plain": [
       "[{'nombre': 'camisa', 'precio €': 50, 'cantidad': 20},\n",
       " {'nombre': 'pantalon', 'precio €': 30, 'cantidad': 80},\n",
       " {'nombre': 'sueter', 'precio €': 25, 'cantidad': 40},\n",
       " {'nombre': 'chaleco', 'precio €': 52, 'cantidad': 60}]"
      ]
     },
     "execution_count": 167,
     "metadata": {},
     "output_type": "execute_result"
    }
   ],
   "source": [
    "inventario"
   ]
  },
  {
   "cell_type": "code",
   "execution_count": 142,
   "metadata": {},
   "outputs": [],
   "source": [
    "def actualizar_stock(nombre, cantidad):\n",
    "\n",
    "      for producto in inventario:  \n",
    "         \n",
    "         if producto['nombre'] != nombre:\n",
    "               print('El producto no existe')\n",
    "         else:\n",
    "               nuevo_stock = producto['cantidad'] + cantidad\n",
    "               print('El nuevo stock de', nombre, 'es:', nuevo_stock)\n",
    "                   \n"
   ]
  },
  {
   "cell_type": "code",
   "execution_count": 143,
   "metadata": {},
   "outputs": [
    {
     "name": "stdout",
     "output_type": "stream",
     "text": [
      "El nuevo stock de camisa es: 50\n",
      "El producto no existe\n"
     ]
    }
   ],
   "source": [
    "actualizar_stock('camisa', 30)"
   ]
  },
  {
   "cell_type": "code",
   "execution_count": 481,
   "metadata": {},
   "outputs": [],
   "source": [
    "## 5. Elimina un producto del inventario por nombre. Debe recibir el nombre del producto como parámetro."
   ]
  },
  {
   "cell_type": "code",
   "execution_count": 601,
   "metadata": {},
   "outputs": [],
   "source": [
    "def eliminar_producto(nombre_a_eliminar):\n",
    "\n",
    "    for producto in inventario:\n",
    "\n",
    "        if producto['nombre'] == nombre_a_eliminar:\n",
    "            print('Se va a eliminar el producto', nombre_a_eliminar)\n",
    "            producto.pop('nombre')\n",
    "            # producto.pop('precio €')\n",
    "            # producto.pop('cantidad')\n",
    "        else:\n",
    "             print('El producto no existe')"
   ]
  },
  {
   "cell_type": "code",
   "execution_count": 602,
   "metadata": {},
   "outputs": [
    {
     "ename": "KeyError",
     "evalue": "'nombre'",
     "output_type": "error",
     "traceback": [
      "\u001b[1;31m---------------------------------------------------------------------------\u001b[0m",
      "\u001b[1;31mKeyError\u001b[0m                                  Traceback (most recent call last)",
      "Cell \u001b[1;32mIn[602], line 1\u001b[0m\n\u001b[1;32m----> 1\u001b[0m \u001b[43meliminar_producto\u001b[49m\u001b[43m(\u001b[49m\u001b[38;5;124;43m'\u001b[39;49m\u001b[38;5;124;43mbufanda\u001b[39;49m\u001b[38;5;124;43m'\u001b[39;49m\u001b[43m)\u001b[49m\n",
      "Cell \u001b[1;32mIn[601], line 5\u001b[0m, in \u001b[0;36meliminar_producto\u001b[1;34m(nombre_a_eliminar)\u001b[0m\n\u001b[0;32m      1\u001b[0m \u001b[38;5;28;01mdef\u001b[39;00m \u001b[38;5;21meliminar_producto\u001b[39m(nombre_a_eliminar):\n\u001b[0;32m      3\u001b[0m     \u001b[38;5;28;01mfor\u001b[39;00m producto \u001b[38;5;129;01min\u001b[39;00m inventario:\n\u001b[1;32m----> 5\u001b[0m         \u001b[38;5;28;01mif\u001b[39;00m \u001b[43mproducto\u001b[49m\u001b[43m[\u001b[49m\u001b[38;5;124;43m'\u001b[39;49m\u001b[38;5;124;43mnombre\u001b[39;49m\u001b[38;5;124;43m'\u001b[39;49m\u001b[43m]\u001b[49m \u001b[38;5;241m==\u001b[39m nombre_a_eliminar:\n\u001b[0;32m      6\u001b[0m             \u001b[38;5;28mprint\u001b[39m(\u001b[38;5;124m'\u001b[39m\u001b[38;5;124mSe va a eliminar el producto\u001b[39m\u001b[38;5;124m'\u001b[39m, nombre_a_eliminar)\n\u001b[0;32m      7\u001b[0m             producto\u001b[38;5;241m.\u001b[39mpop(\u001b[38;5;124m'\u001b[39m\u001b[38;5;124mnombre\u001b[39m\u001b[38;5;124m'\u001b[39m)\n",
      "\u001b[1;31mKeyError\u001b[0m: 'nombre'"
     ]
    }
   ],
   "source": [
    "eliminar_producto('bufanda')"
   ]
  },
  {
   "cell_type": "code",
   "execution_count": null,
   "metadata": {},
   "outputs": [],
   "source": [
    "## 6. Calcula y muestra el valor total del inventario  - OK"
   ]
  },
  {
   "cell_type": "code",
   "execution_count": 575,
   "metadata": {},
   "outputs": [
    {
     "data": {
      "text/plain": [
       "[{'nombre': 'camisa', 'precio €': 50, 'cantidad': 20},\n",
       " {'nombre': 'pantalon', 'precio €': 30, 'cantidad': 80},\n",
       " {'nombre': 'sueter', 'precio €': 25, 'cantidad': 40},\n",
       " {'nombre': 'chaleco', 'precio €': 52, 'cantidad': 60}]"
      ]
     },
     "execution_count": 575,
     "metadata": {},
     "output_type": "execute_result"
    }
   ],
   "source": [
    "inventario"
   ]
  },
  {
   "cell_type": "code",
   "execution_count": 617,
   "metadata": {},
   "outputs": [],
   "source": [
    "def calcular_valor_inventario(inventario):\n",
    "        ventas_totales = 0\n",
    "        for producto in inventario:\n",
    "                precio = producto['precio €']\n",
    "                cantidad = producto['cantidad']\n",
    "                ventas_totales += precio * cantidad\n",
    "        print('El valor total del inventario es:', ventas_totales)\n",
    "            "
   ]
  },
  {
   "cell_type": "code",
   "execution_count": 618,
   "metadata": {},
   "outputs": [
    {
     "name": "stdout",
     "output_type": "stream",
     "text": [
      "El valor total del inventario es: 7520\n"
     ]
    }
   ],
   "source": [
    "calcular_valor_inventario(inventario)"
   ]
  }
 ],
 "metadata": {
  "kernelspec": {
   "display_name": "Python 3",
   "language": "python",
   "name": "python3"
  },
  "language_info": {
   "codemirror_mode": {
    "name": "ipython",
    "version": 3
   },
   "file_extension": ".py",
   "mimetype": "text/x-python",
   "name": "python",
   "nbconvert_exporter": "python",
   "pygments_lexer": "ipython3",
   "version": "3.12.6"
  }
 },
 "nbformat": 4,
 "nbformat_minor": 2
}
