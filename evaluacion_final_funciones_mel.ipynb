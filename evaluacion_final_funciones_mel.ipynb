{
 "cells": [
  {
   "cell_type": "code",
   "execution_count": 59,
   "metadata": {},
   "outputs": [],
   "source": [
    "# 1. inventario = lista para almacenar los productos en el inventario, debe ser representado como un diccionario con las siguientes claves: `'nombre'`, `'precio'`, y `'cantidad'`\n",
    "# 2. clientes - inventario para llevar un registro de los clientes de la tienda, claves: `'nombre'` y `'email'`. Al inicio deberá ser un diccionario vacío. Además, cada cliente debe tener un historial de compras \n",
    "# 3. ventas_totales = variable para llevar un registro de las ventas totales de la tienda"
   ]
  },
  {
   "cell_type": "code",
   "execution_count": 60,
   "metadata": {},
   "outputs": [],
   "source": [
    "inventario = []"
   ]
  },
  {
   "cell_type": "code",
   "execution_count": 61,
   "metadata": {},
   "outputs": [],
   "source": [
    "clientes = {}\n"
   ]
  },
  {
   "cell_type": "code",
   "execution_count": 62,
   "metadata": {},
   "outputs": [],
   "source": [
    "ventas_totales = 0\n"
   ]
  },
  {
   "cell_type": "code",
   "execution_count": 63,
   "metadata": {},
   "outputs": [],
   "source": [
    "# 1. Esta función agrega un producto al inventario o actualiza su cantidad si ya existe. - OK\n",
    "    # Debe recibir el nombre, precio y cantidad del producto como parámetros."
   ]
  },
  {
   "cell_type": "code",
   "execution_count": 64,
   "metadata": {},
   "outputs": [],
   "source": [
    "def agregar_producto(inventario, nombre, precio, cantidad):\n",
    "\n",
    "    for producto in inventario:\n",
    "        if producto['nombre'] == nombre:\n",
    "            print ('El producto ya existe, se va a actualizsar la cantidad')\n",
    "            producto['cantidad'] += cantidad\n",
    "            return\n",
    "    \n",
    "    nuevo_producto = {\n",
    "        'nombre' : nombre,\n",
    "        'precio' : precio,\n",
    "        'cantidad' : cantidad\n",
    "     }\n",
    "    inventario.append(nuevo_producto)"
   ]
  },
  {
   "cell_type": "code",
   "execution_count": 65,
   "metadata": {},
   "outputs": [
    {
     "name": "stdout",
     "output_type": "stream",
     "text": [
      "El producto ya existe, se va a actualizsar la cantidad\n"
     ]
    }
   ],
   "source": [
    "agregar_producto(inventario,'camisa', 50, 20)\n",
    "agregar_producto(inventario,'pantalones', 30, 30)\n",
    "agregar_producto(inventario,'pantalon', 30, 50)\n",
    "agregar_producto(inventario,'sueter', 25, 40)\n",
    "agregar_producto(inventario,'chaleco', 52, 60)"
   ]
  },
  {
   "cell_type": "code",
   "execution_count": 66,
   "metadata": {},
   "outputs": [
    {
     "data": {
      "text/plain": [
       "[{'nombre': 'camisa', 'precio': 50, 'cantidad': 20},\n",
       " {'nombre': 'pantalon', 'precio': 30, 'cantidad': 80},\n",
       " {'nombre': 'sueter', 'precio': 25, 'cantidad': 40},\n",
       " {'nombre': 'chaleco', 'precio': 52, 'cantidad': 60}]"
      ]
     },
     "execution_count": 66,
     "metadata": {},
     "output_type": "execute_result"
    }
   ],
   "source": [
    "inventario"
   ]
  },
  {
   "cell_type": "code",
   "execution_count": 67,
   "metadata": {},
   "outputs": [],
   "source": [
    "# 2. Muestra el inventario de productos con sus detalles - OK"
   ]
  },
  {
   "cell_type": "code",
   "execution_count": 68,
   "metadata": {},
   "outputs": [],
   "source": [
    "def ver_inventario(inventario):\n",
    "\n",
    "    for producto in inventario:\n",
    "       \n",
    "        nombre = producto['nombre']\n",
    "        precio = producto['precio']\n",
    "        cantidad = producto['cantidad']\n",
    "        \n",
    "        print('nombre:',  nombre, '-', 'precio', precio, '€ - ' , 'cantidad' , cantidad)\n"
   ]
  },
  {
   "cell_type": "code",
   "execution_count": 69,
   "metadata": {},
   "outputs": [
    {
     "name": "stdout",
     "output_type": "stream",
     "text": [
      "nombre: camisa - precio 50 € -  cantidad 20\n",
      "nombre: pantalon - precio 30 € -  cantidad 80\n",
      "nombre: sueter - precio 25 € -  cantidad 40\n",
      "nombre: chaleco - precio 52 € -  cantidad 60\n"
     ]
    }
   ],
   "source": [
    "ver_inventario(inventario)"
   ]
  },
  {
   "cell_type": "code",
   "execution_count": 70,
   "metadata": {},
   "outputs": [],
   "source": [
    "# 3. Busca un producto en el inventario por nombre y muestra sus detalles si se encuentra - OK"
   ]
  },
  {
   "cell_type": "code",
   "execution_count": 71,
   "metadata": {},
   "outputs": [],
   "source": [
    "def buscar_producto(buscar_nombre):\n",
    "\n",
    "    for producto in inventario:\n",
    "        if producto['nombre'] == buscar_nombre:\n",
    "            return(producto)\n",
    "        else:\n",
    "             print('El producto no existe')\n",
    "              "
   ]
  },
  {
   "cell_type": "code",
   "execution_count": 72,
   "metadata": {},
   "outputs": [
    {
     "name": "stdout",
     "output_type": "stream",
     "text": [
      "El producto no existe\n",
      "El producto no existe\n"
     ]
    },
    {
     "data": {
      "text/plain": [
       "{'nombre': 'sueter', 'precio': 25, 'cantidad': 40}"
      ]
     },
     "execution_count": 72,
     "metadata": {},
     "output_type": "execute_result"
    }
   ],
   "source": [
    "buscar_producto('sueter')"
   ]
  },
  {
   "cell_type": "code",
   "execution_count": 73,
   "metadata": {},
   "outputs": [],
   "source": [
    "## 4. Actualiza el stock de un producto en el inventario. Debe recibir el nombre del producto y la cantidad a agregar o quitar como parámetros. - OK"
   ]
  },
  {
   "cell_type": "code",
   "execution_count": 74,
   "metadata": {},
   "outputs": [
    {
     "data": {
      "text/plain": [
       "[{'nombre': 'camisa', 'precio': 50, 'cantidad': 20},\n",
       " {'nombre': 'pantalon', 'precio': 30, 'cantidad': 80},\n",
       " {'nombre': 'sueter', 'precio': 25, 'cantidad': 40},\n",
       " {'nombre': 'chaleco', 'precio': 52, 'cantidad': 60}]"
      ]
     },
     "execution_count": 74,
     "metadata": {},
     "output_type": "execute_result"
    }
   ],
   "source": [
    "inventario"
   ]
  },
  {
   "cell_type": "code",
   "execution_count": 75,
   "metadata": {},
   "outputs": [],
   "source": [
    "def actualizar_stock(inventario):\n",
    "        \n",
    "        #inventario\n",
    "        producto_actualizar = input('Ingrese el producto a actualizar (o salir para terminar):')\n",
    "\n",
    "        for  producto in inventario:\n",
    "             if producto['nombre'] == producto_actualizar.lower():\n",
    "                    nuevo_stock = int(input('Ingrese la cantidad del producto:'))\n",
    "                    producto['cantidad'] += nuevo_stock\n",
    "                    return               \n",
    "           \n",
    "             print('El producto no existe')\n",
    "    "
   ]
  },
  {
   "cell_type": "code",
   "execution_count": 76,
   "metadata": {},
   "outputs": [
    {
     "data": {
      "text/plain": [
       "[{'nombre': 'camisa', 'precio': 50, 'cantidad': 70},\n",
       " {'nombre': 'pantalon', 'precio': 30, 'cantidad': 80},\n",
       " {'nombre': 'sueter', 'precio': 25, 'cantidad': 40},\n",
       " {'nombre': 'chaleco', 'precio': 52, 'cantidad': 60}]"
      ]
     },
     "execution_count": 76,
     "metadata": {},
     "output_type": "execute_result"
    }
   ],
   "source": [
    "producto_actualizado = actualizar_stock(inventario)\n",
    "inventario"
   ]
  },
  {
   "cell_type": "code",
   "execution_count": 78,
   "metadata": {},
   "outputs": [],
   "source": [
    "## 5. Elimina un producto del inventario por nombre. Debe recibir el nombre del producto como parámetro. - OK"
   ]
  },
  {
   "cell_type": "code",
   "execution_count": 79,
   "metadata": {},
   "outputs": [],
   "source": [
    "def eliminar_producto(nombre_a_eliminar):\n",
    "\n",
    "    for producto in inventario:\n",
    "\n",
    "        if producto['nombre'] == nombre_a_eliminar:\n",
    "            print('Se va a eliminar el producto', nombre_a_eliminar)\n",
    "            producto.pop('nombre')\n",
    "            # producto.pop('precio €')\n",
    "            # producto.pop('cantidad')\n",
    "        else:\n",
    "             print('El producto no existe')"
   ]
  },
  {
   "cell_type": "code",
   "execution_count": 80,
   "metadata": {},
   "outputs": [
    {
     "name": "stdout",
     "output_type": "stream",
     "text": [
      "El producto no existe\n",
      "El producto no existe\n",
      "El producto no existe\n",
      "El producto no existe\n"
     ]
    }
   ],
   "source": [
    "eliminar_producto('bufanda')"
   ]
  },
  {
   "cell_type": "code",
   "execution_count": 81,
   "metadata": {},
   "outputs": [],
   "source": [
    "## 6. Calcula y muestra el valor total del inventario  - OK"
   ]
  },
  {
   "cell_type": "code",
   "execution_count": 82,
   "metadata": {},
   "outputs": [],
   "source": [
    "def calcular_valor_inventario(inventario):\n",
    "        ventas_totales = 0\n",
    "        for producto in inventario:\n",
    "                precio = producto['precio']\n",
    "                cantidad = producto['cantidad']\n",
    "                ventas_totales += precio * cantidad\n",
    "        print('El valor total del inventario es:', ventas_totales,'€')\n",
    "            "
   ]
  },
  {
   "cell_type": "code",
   "execution_count": 83,
   "metadata": {},
   "outputs": [
    {
     "name": "stdout",
     "output_type": "stream",
     "text": [
      "El valor total del inventario es: 10020 €\n"
     ]
    }
   ],
   "source": [
    "calcular_valor_inventario(inventario)"
   ]
  },
  {
   "cell_type": "code",
   "execution_count": 84,
   "metadata": {},
   "outputs": [],
   "source": [
    "## 7. Permite a un cliente realizar una compra seleccionando productos del inventario - OK sin usar input"
   ]
  },
  {
   "cell_type": "code",
   "execution_count": 85,
   "metadata": {},
   "outputs": [
    {
     "data": {
      "text/plain": [
       "[{'nombre': 'camisa', 'precio': 50, 'cantidad': 70},\n",
       " {'nombre': 'pantalon', 'precio': 30, 'cantidad': 80},\n",
       " {'nombre': 'sueter', 'precio': 25, 'cantidad': 40},\n",
       " {'nombre': 'chaleco', 'precio': 52, 'cantidad': 60}]"
      ]
     },
     "execution_count": 85,
     "metadata": {},
     "output_type": "execute_result"
    }
   ],
   "source": [
    "inventario"
   ]
  },
  {
   "cell_type": "code",
   "execution_count": 91,
   "metadata": {},
   "outputs": [],
   "source": [
    "def realizar_compra(nombre, cantidad):\n",
    "    total_compra = 0\n",
    "    carrito = []\n",
    "    \n",
    "    # while True:\n",
    "    #     ver_inventario(inventario)\n",
    "    #     producto_compra = input('Ingrese el producto que desee comprar (o salir para terminar)')\n",
    "       \n",
    "    #     if producto_compra == 'salir':\n",
    "    #         break\n",
    "                    \n",
    "    #     cantidad_compra = int(input('Ingrese la cantidad que desea comprar: '))\n",
    "        \n",
    "    for producto in inventario:\n",
    "                \n",
    "        if producto['nombre'] == nombre:\n",
    "\n",
    "                if producto['cantidad'] >= cantidad:\n",
    "                    producto['cantidad'] -= cantidad\n",
    "                    carrito.append({'nombre': producto['nombre'], 'cantidad': producto['cantidad']})\n",
    "                    total_compra += cantidad * producto['precio']\n",
    "                    print('Se ha añadido su compra al carrito')\n",
    "                         \n",
    "                else:\n",
    "                     print('No hay stock disponible')\n",
    "                break\n",
    "        \n",
    "        else:\n",
    "            print('El producto no existe')  \n",
    "\n",
    "    for product in carrito:\n",
    "            print('Total a pagar:', total_compra)"
   ]
  },
  {
   "cell_type": "code",
   "execution_count": 93,
   "metadata": {},
   "outputs": [
    {
     "name": "stdout",
     "output_type": "stream",
     "text": [
      "Se ha añadido su compra al carrito\n",
      "Total a pagar: 100\n",
      "El producto no existe\n",
      "Se ha añadido su compra al carrito\n",
      "Total a pagar: 60\n"
     ]
    }
   ],
   "source": [
    "realizar_compra('camisa', 2)\n",
    "realizar_compra('pantalones', 2)"
   ]
  },
  {
   "cell_type": "code",
   "execution_count": 94,
   "metadata": {},
   "outputs": [
    {
     "data": {
      "text/plain": [
       "[{'nombre': 'camisa', 'precio': 50, 'cantidad': 64},\n",
       " {'nombre': 'pantalon', 'precio': 30, 'cantidad': 78},\n",
       " {'nombre': 'sueter', 'precio': 25, 'cantidad': 40},\n",
       " {'nombre': 'chaleco', 'precio': 52, 'cantidad': 60}]"
      ]
     },
     "execution_count": 94,
     "metadata": {},
     "output_type": "execute_result"
    }
   ],
   "source": [
    "inventario"
   ]
  },
  {
   "cell_type": "code",
   "execution_count": null,
   "metadata": {},
   "outputs": [],
   "source": [
    "## 8. Procesa el pago de una compra, calcula el cambio y muestra un mensaje de confirmación - OK"
   ]
  },
  {
   "cell_type": "code",
   "execution_count": 2,
   "metadata": {},
   "outputs": [],
   "source": [
    "def procesar_pago(total_compra):\n",
    "\n",
    "    while True:\n",
    "\n",
    "        try:\n",
    "            cantidad_total = float(total_compra)\n",
    "            cantidad_pago = float(input('Ingrese la cantidad con la que desea efectuar el pago:', ))\n",
    "\n",
    "            if cantidad_pago < cantidad_total:\n",
    "                print('Monto ingressado insuficiente. Inténtelo de nuevo')\n",
    "                continue\n",
    "\n",
    "            cambio = cantidad_pago - cantidad_total\n",
    "\n",
    "            print('Se ha efectuado el pago. Su cambio es:', cambio)\n",
    "            break\n",
    "        except ValueError:\n",
    "            print('Por favor, ingrese un importe válido')"
   ]
  },
  {
   "cell_type": "code",
   "execution_count": 7,
   "metadata": {},
   "outputs": [
    {
     "name": "stdout",
     "output_type": "stream",
     "text": [
      "Se ha efectuado el pago. Su cambio es: 75.0\n"
     ]
    }
   ],
   "source": [
    "procesar_pago(25)"
   ]
  },
  {
   "cell_type": "code",
   "execution_count": null,
   "metadata": {},
   "outputs": [],
   "source": [
    "## 9. Agrega un nuevo cliente al registro de clientes. Debe recibir el nombre y el correo electrónico del cliente como parámetros. - OK"
   ]
  },
  {
   "cell_type": "code",
   "execution_count": 70,
   "metadata": {},
   "outputs": [],
   "source": [
    "lista_clientes = []\n",
    "\n",
    "def agregar_cliente(lista_clientes, nombre, email):\n",
    "\n",
    "    # nombre = input('Ingrese el nombre:  ')\n",
    "    # email = input('Ingrese el mail: ')\n",
    "\n",
    "    # for cliente in lista_clientes:\n",
    "    #     if cliente['nombre'] == nombre:\n",
    "    #         print('El cliente ya existe')\n",
    "    #         return\n",
    "        \n",
    "        nuevo_cliente = {'nombre': nombre, 'email' : email}    \n",
    "        \n",
    "        lista_clientes.append(nuevo_cliente)     \n"
   ]
  },
  {
   "cell_type": "code",
   "execution_count": 71,
   "metadata": {},
   "outputs": [],
   "source": [
    "agregar_cliente(lista_clientes, 'Angel', 'angel@gmail.com')\n",
    "agregar_cliente(lista_clientes, 'Mel', 'mel@gmail.com')\n",
    "agregar_cliente(lista_clientes, 'Etna', 'etna@gmail.com')"
   ]
  },
  {
   "cell_type": "code",
   "execution_count": 111,
   "metadata": {},
   "outputs": [],
   "source": [
    "## 10.  Muestra la lista de clientes registrados con sus nombres y correos electrónicos - OK\n",
    "\n",
    "def ver_cliente(lista_clientes):\n",
    "    \n",
    "    for cliente in lista_clientes:\n",
    "        \n",
    "        nombre = cliente['nombre']\n",
    "        email = cliente['email']\n",
    "    \n",
    "        print('nombre:', nombre, '-','email:', email)\n",
    "  "
   ]
  },
  {
   "cell_type": "code",
   "execution_count": 112,
   "metadata": {},
   "outputs": [
    {
     "name": "stdout",
     "output_type": "stream",
     "text": [
      "nombre: Angel - email: angel@gmail.com\n",
      "nombre: Mel - email: mel@gmail.com\n",
      "nombre: Etna - email: etna@gmail.com\n"
     ]
    }
   ],
   "source": [
    "ver_cliente(lista_clientes)"
   ]
  },
  {
   "cell_type": "code",
   "execution_count": null,
   "metadata": {},
   "outputs": [],
   "source": [
    "## 11. Registra una compra para un cliente, actualiza las ventas totales y agrega la compra al historial del cliente. Debe recibir el nombre del cliente y el carrito de compras como parámetros."
   ]
  },
  {
   "cell_type": "code",
   "execution_count": 116,
   "metadata": {},
   "outputs": [],
   "source": []
  },
  {
   "cell_type": "code",
   "execution_count": null,
   "metadata": {},
   "outputs": [],
   "source": []
  }
 ],
 "metadata": {
  "kernelspec": {
   "display_name": "Python 3",
   "language": "python",
   "name": "python3"
  },
  "language_info": {
   "codemirror_mode": {
    "name": "ipython",
    "version": 3
   },
   "file_extension": ".py",
   "mimetype": "text/x-python",
   "name": "python",
   "nbconvert_exporter": "python",
   "pygments_lexer": "ipython3",
   "version": "3.12.6"
  }
 },
 "nbformat": 4,
 "nbformat_minor": 2
}
