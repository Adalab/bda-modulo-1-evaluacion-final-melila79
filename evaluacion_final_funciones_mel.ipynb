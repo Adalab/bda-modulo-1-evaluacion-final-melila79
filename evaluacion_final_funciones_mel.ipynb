{
 "cells": [
  {
   "cell_type": "code",
   "execution_count": 135,
   "metadata": {},
   "outputs": [],
   "source": [
    "# 1. inventario = lista para almacenar los productos en el inventario, debe ser representado como un diccionario con las siguientes claves: `'nombre'`, `'precio'`, y `'cantidad'`\n",
    "# 2. clientes - inventario para llevar un registro de los clientes de la tienda, claves: `'nombre'` y `'email'`. Al inicio deberá ser un diccionario vacío. Además, cada cliente debe tener un historial de compras \n",
    "# 3. ventas_totales = variable para llevar un registro de las ventas totales de la tienda"
   ]
  },
  {
   "cell_type": "code",
   "execution_count": 136,
   "metadata": {},
   "outputs": [],
   "source": [
    "inventario = []"
   ]
  },
  {
   "cell_type": "code",
   "execution_count": 137,
   "metadata": {},
   "outputs": [],
   "source": [
    "clientes = {}\n"
   ]
  },
  {
   "cell_type": "code",
   "execution_count": 138,
   "metadata": {},
   "outputs": [],
   "source": [
    "ventas_totales = 0\n"
   ]
  },
  {
   "cell_type": "code",
   "execution_count": 139,
   "metadata": {},
   "outputs": [],
   "source": [
    "# 1. Esta función agrega un producto al inventario o actualiza su cantidad si ya existe. - OK\n",
    "    # Debe recibir el nombre, precio y cantidad del producto como parámetros."
   ]
  },
  {
   "cell_type": "code",
   "execution_count": 140,
   "metadata": {},
   "outputs": [],
   "source": [
    "def agregar_producto(inventario, nombre, precio, cantidad):\n",
    "\n",
    "    for producto in inventario:\n",
    "        if producto['nombre'] == nombre:\n",
    "            print ('El producto ya existe, se va a actualizsar la cantidad')\n",
    "            producto['cantidad'] += cantidad\n",
    "            return\n",
    "    \n",
    "    nuevo_producto = {\n",
    "        'nombre' : nombre,\n",
    "        'precio €' : precio,\n",
    "        'cantidad' : cantidad\n",
    "     }\n",
    "    inventario.append(nuevo_producto)\n",
    "\n"
   ]
  },
  {
   "cell_type": "code",
   "execution_count": 141,
   "metadata": {},
   "outputs": [
    {
     "name": "stdout",
     "output_type": "stream",
     "text": [
      "El producto ya existe, se va a actualizsar la cantidad\n"
     ]
    }
   ],
   "source": [
    "agregar_producto(inventario,'camisa', 50, 20)\n",
    "agregar_producto(inventario,'pantalon', 30, 30)\n",
    "agregar_producto(inventario,'pantalon', 30, 50)"
   ]
  },
  {
   "cell_type": "code",
   "execution_count": 142,
   "metadata": {},
   "outputs": [
    {
     "data": {
      "text/plain": [
       "[{'nombre': 'camisa', 'precio €': 50, 'cantidad': 20},\n",
       " {'nombre': 'pantalon', 'precio €': 30, 'cantidad': 80}]"
      ]
     },
     "execution_count": 142,
     "metadata": {},
     "output_type": "execute_result"
    }
   ],
   "source": [
    "inventario"
   ]
  },
  {
   "cell_type": "code",
   "execution_count": 143,
   "metadata": {},
   "outputs": [],
   "source": [
    "# 2. Muestra el inventario de productos con sus detalles."
   ]
  },
  {
   "cell_type": "code",
   "execution_count": 144,
   "metadata": {},
   "outputs": [],
   "source": [
    "def ver_inventario():\n",
    "\n",
    "    for producto in inventario.items():\n",
    "        #producto_detalles = producto.items()\n",
    "        return(producto)\n",
    "    #print(inventario)"
   ]
  },
  {
   "cell_type": "code",
   "execution_count": 145,
   "metadata": {},
   "outputs": [
    {
     "ename": "AttributeError",
     "evalue": "'list' object has no attribute 'items'",
     "output_type": "error",
     "traceback": [
      "\u001b[1;31m---------------------------------------------------------------------------\u001b[0m",
      "\u001b[1;31mAttributeError\u001b[0m                            Traceback (most recent call last)",
      "Cell \u001b[1;32mIn[145], line 1\u001b[0m\n\u001b[1;32m----> 1\u001b[0m \u001b[43mver_inventario\u001b[49m\u001b[43m(\u001b[49m\u001b[43m)\u001b[49m\n",
      "Cell \u001b[1;32mIn[144], line 3\u001b[0m, in \u001b[0;36mver_inventario\u001b[1;34m()\u001b[0m\n\u001b[0;32m      1\u001b[0m \u001b[38;5;28;01mdef\u001b[39;00m \u001b[38;5;21mver_inventario\u001b[39m():\n\u001b[1;32m----> 3\u001b[0m     \u001b[38;5;28;01mfor\u001b[39;00m producto \u001b[38;5;129;01min\u001b[39;00m \u001b[43minventario\u001b[49m\u001b[38;5;241;43m.\u001b[39;49m\u001b[43mitems\u001b[49m():\n\u001b[0;32m      4\u001b[0m         \u001b[38;5;66;03m#producto_detalles = producto.items()\u001b[39;00m\n\u001b[0;32m      5\u001b[0m         \u001b[38;5;28;01mreturn\u001b[39;00m(producto)\n",
      "\u001b[1;31mAttributeError\u001b[0m: 'list' object has no attribute 'items'"
     ]
    }
   ],
   "source": [
    "ver_inventario()"
   ]
  },
  {
   "cell_type": "code",
   "execution_count": 266,
   "metadata": {},
   "outputs": [],
   "source": [
    "# 3. Busca un producto en el inventario por nombre y muestra sus detalles si se encuentra - OK"
   ]
  },
  {
   "cell_type": "code",
   "execution_count": 45,
   "metadata": {},
   "outputs": [],
   "source": [
    "def buscar_producto(buscar_nombre):\n",
    "\n",
    "    for producto in inventario:\n",
    "        if producto['nombre'] == buscar_nombre:\n",
    "            return(producto)\n",
    "        else:\n",
    "             print('El producto no existe')\n",
    "              "
   ]
  },
  {
   "cell_type": "code",
   "execution_count": 47,
   "metadata": {},
   "outputs": [
    {
     "name": "stdout",
     "output_type": "stream",
     "text": [
      "El producto no existe\n"
     ]
    },
    {
     "data": {
      "text/plain": [
       "{'nombre': 'pantalon', 'precio €': 30, 'cantidad': 80}"
      ]
     },
     "execution_count": 47,
     "metadata": {},
     "output_type": "execute_result"
    }
   ],
   "source": [
    "buscar_producto('pantalon')"
   ]
  },
  {
   "cell_type": "code",
   "execution_count": null,
   "metadata": {},
   "outputs": [],
   "source": [
    "## 4. Actualiza el stock de un producto en el inventario. Debe recibir el nombre del producto y la cantidad a agregar o quitar como parámetros."
   ]
  },
  {
   "cell_type": "code",
   "execution_count": 105,
   "metadata": {},
   "outputs": [
    {
     "data": {
      "text/plain": [
       "[{'nombre': 'camisa', 'precio €': 50, 'cantidad': 20},\n",
       " {'nombre': 'pantalon', 'precio €': 30, 'cantidad': 80}]"
      ]
     },
     "execution_count": 105,
     "metadata": {},
     "output_type": "execute_result"
    }
   ],
   "source": [
    "inventario"
   ]
  },
  {
   "cell_type": "code",
   "execution_count": 156,
   "metadata": {},
   "outputs": [],
   "source": [
    "def actualizar_stock(nombre, cantidad):\n",
    "\n",
    "      for producto in inventario:  \n",
    "         \n",
    "         if producto['nombre'] != nombre:\n",
    "               print('El producto no existe')\n",
    "         else:\n",
    "               nuevo_stock = producto['cantidad'] + cantidad\n",
    "               print('El nuevo stock de', nombre, 'es:', nuevo_stock)\n",
    "                   \n"
   ]
  },
  {
   "cell_type": "code",
   "execution_count": 158,
   "metadata": {},
   "outputs": [
    {
     "name": "stdout",
     "output_type": "stream",
     "text": [
      "El nuevo stock de camisa es: 40\n",
      "El producto no existe\n"
     ]
    }
   ],
   "source": [
    "actualizar_stock('camisa', 20)"
   ]
  }
 ],
 "metadata": {
  "kernelspec": {
   "display_name": "Python 3",
   "language": "python",
   "name": "python3"
  },
  "language_info": {
   "codemirror_mode": {
    "name": "ipython",
    "version": 3
   },
   "file_extension": ".py",
   "mimetype": "text/x-python",
   "name": "python",
   "nbconvert_exporter": "python",
   "pygments_lexer": "ipython3",
   "version": "3.12.6"
  }
 },
 "nbformat": 4,
 "nbformat_minor": 2
}
